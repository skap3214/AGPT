{
 "cells": [
  {
   "cell_type": "code",
   "execution_count": 8,
   "metadata": {},
   "outputs": [],
   "source": [
    "PATH = \"./datasets/qa_conversations.txt\"\n",
    "PROCCESS_DATASET_PATH = \"./datasets/qa_conversations_processed.txt\""
   ]
  },
  {
   "cell_type": "code",
   "execution_count": 9,
   "metadata": {},
   "outputs": [],
   "source": [
    "with open(PATH, \"r\") as f:\n",
    "    dataset = f.readlines()"
   ]
  },
  {
   "cell_type": "code",
   "execution_count": 10,
   "metadata": {},
   "outputs": [],
   "source": [
    "with open(PROCCESS_DATASET_PATH, \"w\") as f:\n",
    "    for line in dataset:\n",
    "        line = line.replace(\"Q: \", \"<|endoftext|>\\nQUESTION###\\n\")\n",
    "        line = line.replace(\"A: \", \"###ANSWER\\n\")\n",
    "        f.write(line)"
   ]
  }
 ],
 "metadata": {
  "kernelspec": {
   "display_name": "env",
   "language": "python",
   "name": "python3"
  },
  "language_info": {
   "codemirror_mode": {
    "name": "ipython",
    "version": 3
   },
   "file_extension": ".py",
   "mimetype": "text/x-python",
   "name": "python",
   "nbconvert_exporter": "python",
   "pygments_lexer": "ipython3",
   "version": "3.10.6"
  }
 },
 "nbformat": 4,
 "nbformat_minor": 2
}
